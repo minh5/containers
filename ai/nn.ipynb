{
 "cells": [
  {
   "cell_type": "code",
   "execution_count": 4,
   "metadata": {
    "ExecuteTime": {
     "end_time": "2018-08-03T21:16:51.475301Z",
     "start_time": "2018-08-03T21:16:51.348289Z"
    }
   },
   "outputs": [],
   "source": [
    "import pandas as pd\n",
    "raw = pd.read_table('/Users/minhmai/Downloads/train.txt', delimiter=' ', header=None)\n"
   ]
  },
  {
   "cell_type": "code",
   "execution_count": 5,
   "metadata": {
    "ExecuteTime": {
     "end_time": "2018-08-03T21:16:54.504998Z",
     "start_time": "2018-08-03T21:16:51.840039Z"
    }
   },
   "outputs": [
    {
     "name": "stderr",
     "output_type": "stream",
     "text": [
      "Using TensorFlow backend.\n"
     ]
    }
   ],
   "source": [
    "import re\n",
    "\n",
    "import dask.dataframe as dd\n",
    "import numpy as np\n",
    "import pandas as pd\n",
    "\n",
    "import keras\n",
    "from keras.models import Model, Sequential\n",
    "from keras.layers import Input, LSTM, GRU\n",
    "\n",
    "raw = pd.read_table('/Users/minhmai/Downloads/train.txt', delimiter=' ', header=None)\n",
    "raw.columns = ['word', 'pos', 'wsj']\n",
    "\n",
    "\n",
    "def refactor_pos(x):\n",
    "    # helps deal with imbalances between classes\n",
    "    if x == '.':\n",
    "        return 'stopper'\n",
    "    elif x.startswith('V') or x.startswith('RB') or x == 'JJ':\n",
    "        return 'verb/adverb/adjective'\n",
    "    elif x in ['NS', 'NNS', 'NN']:\n",
    "        return 'noun'\n",
    "    elif x in ['IN', 'TO', 'DT']:\n",
    "        return 'preposition'\n",
    "    else:\n",
    "        return 'other'\n",
    "\n",
    "def preprocess_dataframe(data):\n",
    "    regex = re.compile(r'[^.a-z0-9]')\n",
    "    data['is_symbol'] = data.pos.apply(lambda x: True if regex.match(x) else False)\n",
    "    data = data[((data.is_symbol == True) | (data.pos == '.'))]\n",
    "\n",
    "    # refactor pos tagging\n",
    "    data['pos'] = data.pos.apply(lambda x: refactor_pos(x))\n",
    "    data = data[['word', 'pos']]\n",
    "    data['word'] = data.word.apply(lambda x: x.lower())\n",
    "    corpus = {k: v for k, v in zip(data['word'].unique(), range(data['word'].nunique()))}\n",
    "    pos_corpus = {k: v for k, v in zip(data['pos'].unique(), range(data['pos'].nunique())) if v != 'stopper'}\n",
    "    pos_corpus['stopper'] = 9\n",
    "    data['word'] = data.word.apply(lambda x: corpus[x])\n",
    "    data['pos'] = data.pos.apply(lambda x: pos_corpus[x])\n",
    "    del pos_corpus['stopper']\n",
    "    return corpus, pos_corpus, data\n",
    "\n",
    "def determine_max_length(data, idx):\n",
    "    array = [0] + idx + [data.shape[0]]\n",
    "    start = 0\n",
    "    max_num = 0\n",
    "    for i in array:\n",
    "        val = i - start\n",
    "        if val > max_num:\n",
    "            max_num = val\n",
    "        start = i\n",
    "    return max_num\n",
    "\n",
    "def create_assets(data):\n",
    "    idx = data.loc[data['pos'] == 9, :].index.values.tolist()\n",
    "    words = np.empty([122, ])\n",
    "    pos = np.empty([122, ])\n",
    "    start = 0\n",
    "    max_length = determine_max_length(data, idx)\n",
    "    for i in idx:\n",
    "        _words = data.loc[start:(i-1), 'word'].values\n",
    "        _pos = data.loc[start:(i-1), 'pos'].values\n",
    "        start = i + 1\n",
    "        words = np.vstack((words, np.hstack((_words, np.zeros(max_length - len(_words))))))\n",
    "        pos = np.vstack((pos, np.hstack((_pos, np.zeros(max_length - len(_pos))))))\n",
    "    return words, pos, idx\n",
    "\n",
    "\n",
    "def create_nn_assets(words_data, word_corpus, pos_corpus):\n",
    "    # ensures all vector length for sentences are the same length\n",
    "    assert(len(set([len(d) for d in words_data])) == 1)\n",
    "    sentence_length = len(words_data)\n",
    "    max_sentence_length = len(words_data[0])\n",
    "    max_word_length = len(str(\"{0:b}\".format(len(word_corpus))))\n",
    "    input_data = np.zeros(\n",
    "        (\n",
    "            sentence_length, # denotes sentence\n",
    "            max_sentence_length, # denotes word position\n",
    "            max_word_length # denotes actual word\n",
    "        ),\n",
    "        dtype='float32'\n",
    "    )\n",
    "    target_data = np.zeros(\n",
    "        (\n",
    "            sentence_length,\n",
    "            max_sentence_length,\n",
    "            len(pos_corpus),\n",
    "        ),\n",
    "    dtype='float32'\n",
    "    )\n",
    "    for i, (word, tag) in enumerate(zip(words_data, pos)):\n",
    "        for t, char in enumerate(word):\n",
    "            binary = \"{0:b}\".format(int(char)).zfill(max_word_length)\n",
    "            input_data[i, t, :] = [i for i in binary]\n",
    "        for t, char in enumerate(tag):\n",
    "            target_data[i, t, int(char)] = 1.\n",
    "    return input_data, target_data\n",
    "    \n",
    "def convert_bin(array):\n",
    "    return int(''.join([str(int(i)) for i in array]), 2)\n"
   ]
  },
  {
   "cell_type": "code",
   "execution_count": 6,
   "metadata": {
    "ExecuteTime": {
     "end_time": "2018-08-03T21:17:48.236588Z",
     "start_time": "2018-08-03T21:16:57.180730Z"
    }
   },
   "outputs": [
    {
     "name": "stdout",
     "output_type": "stream",
     "text": [
      "shape of x: (8828, 122, 15)\n",
      "shape of y: (8828, 122, 4)\n"
     ]
    }
   ],
   "source": [
    "corpus, pos_corpus, data = preprocess_dataframe(raw)\n",
    "words, pos, idx = create_assets(data)\n",
    "x, y = create_nn_assets(words, corpus, pos_corpus)\n",
    "print('shape of x:', x.shape)\n",
    "print('shape of y:', y.shape)"
   ]
  },
  {
   "cell_type": "code",
   "execution_count": 10,
   "metadata": {
    "ExecuteTime": {
     "end_time": "2018-08-03T21:36:33.024115Z",
     "start_time": "2018-08-03T21:36:33.019142Z"
    }
   },
   "outputs": [],
   "source": [
    "PARAMS = {\n",
    "    'lr': (0.05, 0.1, 0.5),\n",
    "    'decay':[0.05, 0.1, 0.01],\n",
    "    'hidden_layers':[0, 1, 2],\n",
    "    'batch_size': (64, 128, 256),\n",
    "    'amagrad': [True, False],\n",
    "}"
   ]
  },
  {
   "cell_type": "code",
   "execution_count": 15,
   "metadata": {
    "ExecuteTime": {
     "end_time": "2018-08-03T22:05:43.396009Z",
     "start_time": "2018-08-03T22:05:43.368558Z"
    }
   },
   "outputs": [],
   "source": [
    "batch_size = 64  # Batch size for training.\n",
    "epochs = 10 # Number of epochs to train for.\n",
    "latent_dim = 4  # Latent dimensionality of the encoding space.\n",
    "sentence_length = len(words[0]) # length of the words in a sentence (time step)\n",
    "num_outputs = len(pos_corpus)\n",
    "input_shape = len(x[0][0]) # base 2 binary represented as an array for each number (input dimensino)\n",
    "\n",
    "def gru_model(x, y, params):\n",
    "    latent_dim = len(y[0])\n",
    "    sentence_lenght = len(x[0])\n",
    "    input_shape = len(x[0][0])\n",
    "    \n",
    "    model = Sequential()\n",
    "    model.add(GRU(latent_dim, input_shape=(sentence_length, input_shape), return_sequences=True))\n",
    "    optim = keras.optimizers.Adam(\n",
    "        lr=params['lr'],\n",
    "        beta_1=0.9,\n",
    "        beta_2=0.999, \n",
    "        epsilon=None,\n",
    "        decay=params['decay'],\n",
    "        amsgrad=params['amsgrad']\n",
    "    )\n",
    "    model.compile(optimizer=optim, loss='categorical_crossentropy')\n",
    "    history = model.fit(\n",
    "        x,\n",
    "        y,\n",
    "        batch_size=params['batch_size'],\n",
    "        epochs=100,\n",
    "        validation_split=0.2\n",
    "    )\n",
    "    return history, model"
   ]
  },
  {
   "cell_type": "code",
   "execution_count": 16,
   "metadata": {
    "ExecuteTime": {
     "end_time": "2018-08-03T22:05:47.525570Z",
     "start_time": "2018-08-03T22:05:46.626919Z"
    }
   },
   "outputs": [
    {
     "name": "stdout",
     "output_type": "stream",
     "text": [
      "The model needs to have Return in format \"return history, model\"\n"
     ]
    },
    {
     "ename": "UnboundLocalError",
     "evalue": "local variable '_hr_out' referenced before assignment",
     "output_type": "error",
     "traceback": [
      "\u001b[0;31m---------------------------------------------------------------------------\u001b[0m",
      "\u001b[0;31mUnboundLocalError\u001b[0m                         Traceback (most recent call last)",
      "\u001b[0;32m<ipython-input-16-dc0b977c9c69>\u001b[0m in \u001b[0;36m<module>\u001b[0;34m()\u001b[0m\n\u001b[1;32m      7\u001b[0m     \u001b[0mparams\u001b[0m\u001b[0;34m=\u001b[0m\u001b[0mPARAMS\u001b[0m\u001b[0;34m,\u001b[0m\u001b[0;34m\u001b[0m\u001b[0m\n\u001b[1;32m      8\u001b[0m     \u001b[0mdataset_name\u001b[0m\u001b[0;34m=\u001b[0m\u001b[0;34m'gru'\u001b[0m\u001b[0;34m,\u001b[0m\u001b[0;34m\u001b[0m\u001b[0m\n\u001b[0;32m----> 9\u001b[0;31m     \u001b[0mexperiment_no\u001b[0m\u001b[0;34m=\u001b[0m\u001b[0;34m'1'\u001b[0m\u001b[0;34m\u001b[0m\u001b[0m\n\u001b[0m\u001b[1;32m     10\u001b[0m )\n",
      "\u001b[0;32m/Users/minhmai/envs/cava/lib/python3.6/site-packages/talos/scan.py\u001b[0m in \u001b[0;36m__init__\u001b[0;34m(self, x, y, params, dataset_name, experiment_no, model, val_split, shuffle, search_method, save_best_model, reduction_method, reduction_interval, reduction_window, grid_downsample, reduction_metric, talos_log_name, debug)\u001b[0m\n\u001b[1;32m     75\u001b[0m         \u001b[0mself\u001b[0m\u001b[0;34m.\u001b[0m\u001b[0mresult\u001b[0m \u001b[0;34m=\u001b[0m \u001b[0;34m[\u001b[0m\u001b[0;34m]\u001b[0m\u001b[0;34m\u001b[0m\u001b[0m\n\u001b[1;32m     76\u001b[0m         \u001b[0;32mwhile\u001b[0m \u001b[0mlen\u001b[0m\u001b[0;34m(\u001b[0m\u001b[0mself\u001b[0m\u001b[0;34m.\u001b[0m\u001b[0mparam_log\u001b[0m\u001b[0;34m)\u001b[0m \u001b[0;34m!=\u001b[0m \u001b[0;36m0\u001b[0m\u001b[0;34m:\u001b[0m\u001b[0;34m\u001b[0m\u001b[0m\n\u001b[0;32m---> 77\u001b[0;31m             \u001b[0mself\u001b[0m\u001b[0;34m.\u001b[0m\u001b[0m_null\u001b[0m \u001b[0;34m=\u001b[0m \u001b[0mself\u001b[0m\u001b[0;34m.\u001b[0m\u001b[0m_run\u001b[0m\u001b[0;34m(\u001b[0m\u001b[0;34m)\u001b[0m\u001b[0;34m\u001b[0m\u001b[0m\n\u001b[0m\u001b[1;32m     78\u001b[0m \u001b[0;34m\u001b[0m\u001b[0m\n\u001b[1;32m     79\u001b[0m         \u001b[0mself\u001b[0m \u001b[0;34m=\u001b[0m \u001b[0mresult_todf\u001b[0m\u001b[0;34m(\u001b[0m\u001b[0mself\u001b[0m\u001b[0;34m)\u001b[0m\u001b[0;34m\u001b[0m\u001b[0m\n",
      "\u001b[0;32m/Users/minhmai/envs/cava/lib/python3.6/site-packages/talos/scan.py\u001b[0m in \u001b[0;36m_run\u001b[0;34m(self)\u001b[0m\n\u001b[1;32m     91\u001b[0m             \u001b[0mprint\u001b[0m\u001b[0;34m(\u001b[0m\u001b[0;34m'The model needs to have Return in format \"return history, model\"'\u001b[0m\u001b[0;34m)\u001b[0m\u001b[0;34m\u001b[0m\u001b[0m\n\u001b[1;32m     92\u001b[0m \u001b[0;34m\u001b[0m\u001b[0m\n\u001b[0;32m---> 93\u001b[0;31m         \u001b[0mself\u001b[0m\u001b[0;34m.\u001b[0m\u001b[0mepoch_entropy\u001b[0m\u001b[0;34m.\u001b[0m\u001b[0mappend\u001b[0m\u001b[0;34m(\u001b[0m\u001b[0mepoch_entropy\u001b[0m\u001b[0;34m(\u001b[0m\u001b[0;34m(\u001b[0m\u001b[0m_hr_out\u001b[0m\u001b[0;34m)\u001b[0m\u001b[0;34m)\u001b[0m\u001b[0;34m)\u001b[0m\u001b[0;34m\u001b[0m\u001b[0m\n\u001b[0m\u001b[1;32m     94\u001b[0m         \u001b[0m_hr_out\u001b[0m \u001b[0;34m=\u001b[0m \u001b[0mrun_round_results\u001b[0m\u001b[0;34m(\u001b[0m\u001b[0mself\u001b[0m\u001b[0;34m,\u001b[0m \u001b[0m_hr_out\u001b[0m\u001b[0;34m)\u001b[0m\u001b[0;34m\u001b[0m\u001b[0m\n\u001b[1;32m     95\u001b[0m \u001b[0;34m\u001b[0m\u001b[0m\n",
      "\u001b[0;31mUnboundLocalError\u001b[0m: local variable '_hr_out' referenced before assignment"
     ]
    }
   ],
   "source": [
    "import talos as ta\n",
    "t = ta.Scan(\n",
    "    x=x,\n",
    "    y=y,\n",
    "    model=gru_model,\n",
    "    grid_downsample=0.01, \n",
    "    params=PARAMS,\n",
    "    dataset_name='gru',\n",
    "    experiment_no='1'\n",
    ")"
   ]
  },
  {
   "cell_type": "code",
   "execution_count": null,
   "metadata": {},
   "outputs": [],
   "source": []
  }
 ],
 "metadata": {
  "kernelspec": {
   "display_name": "Python 3",
   "language": "python",
   "name": "python3"
  },
  "language_info": {
   "codemirror_mode": {
    "name": "ipython",
    "version": 3
   },
   "file_extension": ".py",
   "mimetype": "text/x-python",
   "name": "python",
   "nbconvert_exporter": "python",
   "pygments_lexer": "ipython3",
   "version": "3.6.2"
  }
 },
 "nbformat": 4,
 "nbformat_minor": 2
}
