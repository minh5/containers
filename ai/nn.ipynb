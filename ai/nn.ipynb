{
 "cells": [
  {
   "cell_type": "code",
   "execution_count": 2,
   "metadata": {
    "ExecuteTime": {
     "end_time": "2018-08-04T19:41:43.298704Z",
     "start_time": "2018-08-04T19:41:40.977811Z"
    }
   },
   "outputs": [
    {
     "name": "stderr",
     "output_type": "stream",
     "text": [
      "Using TensorFlow backend.\n"
     ]
    }
   ],
   "source": [
    "import itertools\n",
    "import re\n",
    "\n",
    "import dask.dataframe as dd\n",
    "import numpy as np\n",
    "import pandas as pd\n",
    "import talos as ta\n",
    "\n",
    "import keras\n",
    "from keras.models import Model, Sequential\n",
    "from keras.layers import Input, LSTM, GRU\n",
    "\n",
    "raw = pd.read_table('/Users/minhmai/Downloads/train.txt', delimiter=' ', header=None)\n",
    "raw.columns = ['word', 'pos', 'wsj']\n",
    "\n",
    "\n",
    "def refactor_pos(x):\n",
    "    # helps deal with imbalances between classes\n",
    "    if x == '.':\n",
    "        return 'stopper'\n",
    "    elif x.startswith('V') or x.startswith('RB') or x == 'JJ':\n",
    "        return 'verb/adverb/adjective'\n",
    "    elif x in ['NS', 'NNS', 'NN']:\n",
    "        return 'noun'\n",
    "    elif x in ['IN', 'TO', 'DT']:\n",
    "        return 'preposition'\n",
    "    else:\n",
    "        return 'other'\n",
    "\n",
    "def preprocess_dataframe(data):\n",
    "    regex = re.compile(r'[^.a-z0-9]')\n",
    "    data['is_symbol'] = data.pos.apply(lambda x: True if regex.match(x) else False)\n",
    "    data = data[((data.is_symbol == True) | (data.pos == '.'))]\n",
    "\n",
    "    # refactor pos tagging\n",
    "    data['pos'] = data.pos.apply(lambda x: refactor_pos(x))\n",
    "    data = data[['word', 'pos']]\n",
    "    data['word'] = data.word.apply(lambda x: x.lower())\n",
    "    corpus = {k: v for k, v in zip(data['word'].unique(), range(data['word'].nunique()))}\n",
    "    pos_corpus = {k: v for k, v in zip(data['pos'].unique(), range(data['pos'].nunique())) if v != 'stopper'}\n",
    "    pos_corpus['stopper'] = 9\n",
    "    data['word'] = data.word.apply(lambda x: corpus[x])\n",
    "    data['pos'] = data.pos.apply(lambda x: pos_corpus[x])\n",
    "    del pos_corpus['stopper']\n",
    "    return corpus, pos_corpus, data\n",
    "\n",
    "def determine_max_length(data, idx):\n",
    "    array = [0] + idx + [data.shape[0]]\n",
    "    start = 0\n",
    "    max_num = 0\n",
    "    for i in array:\n",
    "        val = i - start\n",
    "        if val > max_num:\n",
    "            max_num = val\n",
    "        start = i\n",
    "    return max_num\n",
    "\n",
    "def create_assets(data):\n",
    "    idx = data.loc[data['pos'] == 9, :].index.values.tolist()\n",
    "    words = np.empty([122, ])\n",
    "    pos = np.empty([122, ])\n",
    "    start = 0\n",
    "    max_length = determine_max_length(data, idx)\n",
    "    for i in idx:\n",
    "        _words = data.loc[start:(i-1), 'word'].values\n",
    "        _pos = data.loc[start:(i-1), 'pos'].values\n",
    "        start = i + 1\n",
    "        words = np.vstack((words, np.hstack((_words, np.zeros(max_length - len(_words))))))\n",
    "        pos = np.vstack((pos, np.hstack((_pos, np.zeros(max_length - len(_pos))))))\n",
    "    return words, pos, idx\n",
    "\n",
    "\n",
    "def create_nn_assets(words_data, word_corpus, pos_corpus):\n",
    "    # ensures all vector length for sentences are the same length\n",
    "    assert(len(set([len(d) for d in words_data])) == 1)\n",
    "    sentence_length = len(words_data)\n",
    "    max_sentence_length = len(words_data[0])\n",
    "    max_word_length = len(str(\"{0:b}\".format(len(word_corpus))))\n",
    "    input_data = np.zeros(\n",
    "        (\n",
    "            sentence_length, # denotes sentence\n",
    "            max_sentence_length, # denotes word position\n",
    "            max_word_length # denotes actual word\n",
    "        ),\n",
    "        dtype='float32'\n",
    "    )\n",
    "    target_data = np.zeros(\n",
    "        (\n",
    "            sentence_length,\n",
    "            max_sentence_length,\n",
    "            len(pos_corpus),\n",
    "        ),\n",
    "    dtype='float32'\n",
    "    )\n",
    "    for i, (word, tag) in enumerate(zip(words_data, pos)):\n",
    "        for t, char in enumerate(word):\n",
    "            binary = \"{0:b}\".format(int(char)).zfill(max_word_length)\n",
    "            input_data[i, t, :] = [i for i in binary]\n",
    "        for t, char in enumerate(tag):\n",
    "            target_data[i, t, int(char)] = 1.\n",
    "    return input_data, target_data\n",
    "    \n",
    "def convert_bin(array):\n",
    "    return int(''.join([str(int(i)) for i in array]), 2)\n"
   ]
  },
  {
   "cell_type": "code",
   "execution_count": 4,
   "metadata": {
    "ExecuteTime": {
     "end_time": "2018-08-04T19:43:29.571771Z",
     "start_time": "2018-08-04T19:42:55.834335Z"
    }
   },
   "outputs": [
    {
     "name": "stdout",
     "output_type": "stream",
     "text": [
      "shape of x: (8828, 122, 15)\n",
      "shape of y: (8828, 122, 4)\n"
     ]
    }
   ],
   "source": [
    "corpus, pos_corpus, data = preprocess_dataframe(raw)\n",
    "words, pos, idx = create_assets(data)\n",
    "try:\n",
    "    x, y = create_nn_assets(words, corpus, pos_corpus)\n",
    "except:\n",
    "    import pdb; pdb.post_mortem()\n",
    "print('shape of x:', x.shape)\n",
    "print('shape of y:', y.shape)"
   ]
  },
  {
   "cell_type": "code",
   "execution_count": 8,
   "metadata": {
    "ExecuteTime": {
     "end_time": "2018-08-04T19:43:59.328625Z",
     "start_time": "2018-08-04T19:43:59.135304Z"
    }
   },
   "outputs": [],
   "source": [
    "param_values = [[0.05, 0.1, 0.5], [0.05, 0.1, 0.01], [True, False]]\n",
    "params = list(itertools.product(*param_values))\n",
    "OPTIMS = [\n",
    "    keras.optimizers.Adam(\n",
    "        lr=p[0],\n",
    "        beta_1=0.9,\n",
    "        beta_2=0.999, \n",
    "        epsilon=None,\n",
    "        decay=p[1],\n",
    "        amsgrad=p[2]\n",
    "    )\n",
    "    for p in params\n",
    "]"
   ]
  },
  {
   "cell_type": "code",
   "execution_count": 10,
   "metadata": {
    "ExecuteTime": {
     "end_time": "2018-08-04T19:44:10.952838Z",
     "start_time": "2018-08-04T19:44:10.938900Z"
    }
   },
   "outputs": [],
   "source": [
    "PARAMS = {\n",
    "    'optims': OPTIMS,\n",
    "    'batch_size': (64, 128, 256)\n",
    "}\n",
    "def gru_model(x, y, params):\n",
    "    latent_dim = len(y[0])\n",
    "    sentence_lenght = len(x[0])\n",
    "    input_shape = len(x[0][0])\n",
    "    \n",
    "    model = Sequential()\n",
    "    model.add(GRU(latent_dim, input_shape=(sentence_length, input_shape), return_sequences=True))\n",
    "    model.compile(optimizer=optim['optims'], loss='categorical_crossentropy')\n",
    "    history = model.fit(\n",
    "        x,\n",
    "        y,\n",
    "        batch_size=params['batch_size'],\n",
    "        epochs=100,\n",
    "        validation_split=0.2\n",
    "    )\n",
    "    return history, model"
   ]
  },
  {
   "cell_type": "code",
   "execution_count": 11,
   "metadata": {
    "ExecuteTime": {
     "end_time": "2018-08-04T19:44:25.083232Z",
     "start_time": "2018-08-04T19:44:25.069764Z"
    }
   },
   "outputs": [
    {
     "ename": "ModuleNotFoundError",
     "evalue": "No module named 'talos'",
     "output_type": "error",
     "traceback": [
      "\u001b[0;31m---------------------------------------------------------------------------\u001b[0m",
      "\u001b[0;31mModuleNotFoundError\u001b[0m                       Traceback (most recent call last)",
      "\u001b[0;32m<ipython-input-11-dc0b977c9c69>\u001b[0m in \u001b[0;36m<module>\u001b[0;34m()\u001b[0m\n\u001b[0;32m----> 1\u001b[0;31m \u001b[0;32mimport\u001b[0m \u001b[0mtalos\u001b[0m \u001b[0;32mas\u001b[0m \u001b[0mta\u001b[0m\u001b[0;34m\u001b[0m\u001b[0m\n\u001b[0m\u001b[1;32m      2\u001b[0m t = ta.Scan(\n\u001b[1;32m      3\u001b[0m     \u001b[0mx\u001b[0m\u001b[0;34m=\u001b[0m\u001b[0mx\u001b[0m\u001b[0;34m,\u001b[0m\u001b[0;34m\u001b[0m\u001b[0m\n\u001b[1;32m      4\u001b[0m     \u001b[0my\u001b[0m\u001b[0;34m=\u001b[0m\u001b[0my\u001b[0m\u001b[0;34m,\u001b[0m\u001b[0;34m\u001b[0m\u001b[0m\n\u001b[1;32m      5\u001b[0m     \u001b[0mmodel\u001b[0m\u001b[0;34m=\u001b[0m\u001b[0mgru_model\u001b[0m\u001b[0;34m,\u001b[0m\u001b[0;34m\u001b[0m\u001b[0m\n",
      "\u001b[0;31mModuleNotFoundError\u001b[0m: No module named 'talos'"
     ]
    }
   ],
   "source": [
    "t = ta.Scan(\n",
    "    x=x,\n",
    "    y=y,\n",
    "    model=gru_model,\n",
    "    grid_downsample=0.01, \n",
    "    params=PARAMS,\n",
    "    dataset_name='gru',\n",
    "    experiment_no='1'\n",
    ")"
   ]
  }
 ],
 "metadata": {
  "kernelspec": {
   "display_name": "Python 3",
   "language": "python",
   "name": "python3"
  },
  "language_info": {
   "codemirror_mode": {
    "name": "ipython",
    "version": 3
   },
   "file_extension": ".py",
   "mimetype": "text/x-python",
   "name": "python",
   "nbconvert_exporter": "python",
   "pygments_lexer": "ipython3",
   "version": "3.6.2"
  }
 },
 "nbformat": 4,
 "nbformat_minor": 2
}
